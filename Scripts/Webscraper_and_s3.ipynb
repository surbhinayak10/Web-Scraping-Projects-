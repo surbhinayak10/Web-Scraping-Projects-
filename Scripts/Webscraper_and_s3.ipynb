{
 "cells": [
  {
   "cell_type": "markdown",
   "metadata": {},
   "source": [
    "#### * Loading all the required libraries"
   ]
  },
  {
   "cell_type": "code",
   "execution_count": 1,
   "metadata": {},
   "outputs": [],
   "source": [
    "###Load libraries\n",
    "import awscli\n",
    "import selenium\n",
    "import boto3\n",
    "import pandas as pd\n",
    "import time\n",
    "from io import StringIO\n",
    "import io\n",
    "\n",
    "from selenium import webdriver\n"
   ]
  },
  {
   "cell_type": "markdown",
   "metadata": {},
   "source": [
    "#### * Preparing data using web scraping"
   ]
  },
  {
   "cell_type": "code",
   "execution_count": 2,
   "metadata": {
    "scrolled": true
   },
   "outputs": [
    {
     "name": "stderr",
     "output_type": "stream",
     "text": [
      "<ipython-input-2-aa06b08ecc4e>:7: DeprecationWarning: executable_path has been deprecated, please pass in a Service object\n",
      "  browser = webdriver.Chrome(\"chromedriver.exe\")\n"
     ]
    },
    {
     "name": "stdout",
     "output_type": "stream",
     "text": [
      "<selenium.webdriver.remote.webelement.WebElement (session=\"6211aa9055bbc02f2fafea8e11ba8f04\", element=\"976ca4ea-4740-4478-8bd5-2062ad27b28e\")>\n",
      "<selenium.webdriver.remote.webelement.WebElement (session=\"6211aa9055bbc02f2fafea8e11ba8f04\", element=\"976ca4ea-4740-4478-8bd5-2062ad27b28e\")>\n"
     ]
    },
    {
     "name": "stderr",
     "output_type": "stream",
     "text": [
      "<ipython-input-2-aa06b08ecc4e>:14: DeprecationWarning: find_element_by_* commands are deprecated. Please use find_element() instead\n",
      "  inputElement = browser.find_element_by_xpath(\"/html/body/div[2]/div/table/tbody/tr/td[3]/div/div/table[2]/tbody\")\n",
      "<ipython-input-2-aa06b08ecc4e>:16: DeprecationWarning: find_element_by_* commands are deprecated. Please use find_element() instead\n",
      "  table = browser.find_element_by_css_selector('table.Bordered')\n"
     ]
    }
   ],
   "source": [
    "####\n",
    "#Author: Surbhi Nayak\n",
    "#version 1.0\n",
    "\n",
    "####SCRAPE THE WEBSITE######\n",
    "###call the webdriver\n",
    "browser = webdriver.Chrome(\"chromedriver.exe\")\n",
    "\n",
    "#enter the url path that needs to be accessed by webdriver\n",
    "browser.get('https://www.charitiesnys.com/RegistrySearch/search_charities_action.jsp?orgName=T&d-49653-p=2&city=&searchType=contains&reg1=&project=Charities&reg3=&reg2=&ein=&orgId=&num1=&state=none&regType=ALL&num2=')\n",
    "\n",
    "\n",
    "#identify xpath of location to select element\n",
    "inputElement = browser.find_element_by_xpath(\"/html/body/div[2]/div/table/tbody/tr/td[3]/div/div/table[2]/tbody\")\n",
    "\n",
    "table = browser.find_element_by_css_selector('table.Bordered')\n",
    "print(table)\n",
    "\n",
    "print(table)\n"
   ]
  },
  {
   "cell_type": "markdown",
   "metadata": {},
   "source": [
    "#### * Creating Dataframe using scraped data"
   ]
  },
  {
   "cell_type": "code",
   "execution_count": 3,
   "metadata": {},
   "outputs": [
    {
     "name": "stderr",
     "output_type": "stream",
     "text": [
      "C:\\Users\\anike\\anaconda3\\lib\\site-packages\\selenium\\webdriver\\remote\\webelement.py:501: UserWarning: find_elements_by_* commands are deprecated. Please use find_elements() instead\n",
      "  warnings.warn(\"find_elements_by_* commands are deprecated. Please use find_elements() instead\")\n"
     ]
    },
    {
     "data": {
      "text/html": [
       "<div>\n",
       "<style scoped>\n",
       "    .dataframe tbody tr th:only-of-type {\n",
       "        vertical-align: middle;\n",
       "    }\n",
       "\n",
       "    .dataframe tbody tr th {\n",
       "        vertical-align: top;\n",
       "    }\n",
       "\n",
       "    .dataframe thead th {\n",
       "        text-align: right;\n",
       "    }\n",
       "</style>\n",
       "<table border=\"1\" class=\"dataframe\">\n",
       "  <thead>\n",
       "    <tr style=\"text-align: right;\">\n",
       "      <th></th>\n",
       "      <th>Organization Name</th>\n",
       "      <th>NY Reg #</th>\n",
       "      <th>EIN</th>\n",
       "      <th>Registrant Type</th>\n",
       "      <th>City</th>\n",
       "      <th>State</th>\n",
       "    </tr>\n",
       "  </thead>\n",
       "  <tbody>\n",
       "    <tr>\n",
       "      <th>0</th>\n",
       "      <td>None</td>\n",
       "      <td>None</td>\n",
       "      <td>None</td>\n",
       "      <td>None</td>\n",
       "      <td>None</td>\n",
       "      <td>None</td>\n",
       "    </tr>\n",
       "    <tr>\n",
       "      <th>1</th>\n",
       "      <td>04/11 10:17 PM test</td>\n",
       "      <td>47-13-95</td>\n",
       "      <td>206256427</td>\n",
       "      <td>NFP</td>\n",
       "      <td>ALBANY</td>\n",
       "      <td>NY</td>\n",
       "    </tr>\n",
       "    <tr>\n",
       "      <th>2</th>\n",
       "      <td>1 CLUB COLOMBIA CARIBE INTERNATIONAL</td>\n",
       "      <td>15-79-51</td>\n",
       "      <td>NO DATA AVAILABLE</td>\n",
       "      <td>NFP</td>\n",
       "      <td>QUEENS</td>\n",
       "      <td>NY</td>\n",
       "    </tr>\n",
       "    <tr>\n",
       "      <th>3</th>\n",
       "      <td>1 in 9 The Long Island Breast Cancer Action Co...</td>\n",
       "      <td>05-26-54</td>\n",
       "      <td>113195645</td>\n",
       "      <td>NFP</td>\n",
       "      <td>BALDWIN</td>\n",
       "      <td>NY</td>\n",
       "    </tr>\n",
       "    <tr>\n",
       "      <th>4</th>\n",
       "      <td>Academy of General Dentistry Foundation</td>\n",
       "      <td>43-07-85</td>\n",
       "      <td>237310583</td>\n",
       "      <td>NFP</td>\n",
       "      <td>ALBANY</td>\n",
       "      <td>NY</td>\n",
       "    </tr>\n",
       "    <tr>\n",
       "      <th>5</th>\n",
       "      <td>ALS ASSOCIATION UPSTATE NEW YORK CHAPTER</td>\n",
       "      <td>21-23-76</td>\n",
       "      <td>412129176</td>\n",
       "      <td>NFP</td>\n",
       "      <td>ELBRIDGE</td>\n",
       "      <td>NY</td>\n",
       "    </tr>\n",
       "    <tr>\n",
       "      <th>6</th>\n",
       "      <td>American Agora Foundation, Inc.</td>\n",
       "      <td>40-62-78</td>\n",
       "      <td>204000236</td>\n",
       "      <td>NFP</td>\n",
       "      <td>NEW YORK</td>\n",
       "      <td>NY</td>\n",
       "    </tr>\n",
       "    <tr>\n",
       "      <th>7</th>\n",
       "      <td>AMERICAN CLASSICAL ORCHESTRA INC</td>\n",
       "      <td>15-89-17</td>\n",
       "      <td>061072470</td>\n",
       "      <td>NFP</td>\n",
       "      <td>NEW YORK</td>\n",
       "      <td>NY</td>\n",
       "    </tr>\n",
       "    <tr>\n",
       "      <th>8</th>\n",
       "      <td>AOPA Foundation, Inc.</td>\n",
       "      <td>40-51-26</td>\n",
       "      <td>208817225</td>\n",
       "      <td>NFP</td>\n",
       "      <td>FREDERICK</td>\n",
       "      <td>MD</td>\n",
       "    </tr>\n",
       "    <tr>\n",
       "      <th>9</th>\n",
       "      <td>ARNOLD GOLD FOUNDATION</td>\n",
       "      <td>21-38-43</td>\n",
       "      <td>223052098</td>\n",
       "      <td>NFP</td>\n",
       "      <td>ENGLEWOOD CLIFFS</td>\n",
       "      <td>NJ</td>\n",
       "    </tr>\n",
       "    <tr>\n",
       "      <th>10</th>\n",
       "      <td>Balanda Community Association, Inc.</td>\n",
       "      <td>42-90-86</td>\n",
       "      <td>264154665</td>\n",
       "      <td>NFP</td>\n",
       "      <td>DENVER</td>\n",
       "      <td>CO</td>\n",
       "    </tr>\n",
       "    <tr>\n",
       "      <th>11</th>\n",
       "      <td>BLESSING WAY FOUNDATION</td>\n",
       "      <td>20-76-19</td>\n",
       "      <td>043138834</td>\n",
       "      <td>NFP</td>\n",
       "      <td>NEW YORK</td>\n",
       "      <td>NY</td>\n",
       "    </tr>\n",
       "    <tr>\n",
       "      <th>12</th>\n",
       "      <td>BOYS &amp; GIRLS CLUB OF THE NORTHTOWNS FOUNDATION...</td>\n",
       "      <td>01-23-16</td>\n",
       "      <td>160844107</td>\n",
       "      <td>NFP</td>\n",
       "      <td>BUFFALO</td>\n",
       "      <td>NY</td>\n",
       "    </tr>\n",
       "    <tr>\n",
       "      <th>13</th>\n",
       "      <td>BRAND FOUNDATION OF NEW YORK INC</td>\n",
       "      <td>00-12-93</td>\n",
       "      <td>136159106</td>\n",
       "      <td>NFP</td>\n",
       "      <td>NEW YORK</td>\n",
       "      <td>NY</td>\n",
       "    </tr>\n",
       "    <tr>\n",
       "      <th>14</th>\n",
       "      <td>Briar Foundation</td>\n",
       "      <td>42-66-39</td>\n",
       "      <td>356829452</td>\n",
       "      <td>NFP</td>\n",
       "      <td>LARCHMONT</td>\n",
       "      <td>NY</td>\n",
       "    </tr>\n",
       "    <tr>\n",
       "      <th>15</th>\n",
       "      <td>BROOKLYN GYNECOLOGICAL SOCIETY INC</td>\n",
       "      <td>05-02-76</td>\n",
       "      <td>011202369</td>\n",
       "      <td>NFP</td>\n",
       "      <td>BROOKLYN</td>\n",
       "      <td>NY</td>\n",
       "    </tr>\n",
       "  </tbody>\n",
       "</table>\n",
       "</div>"
      ],
      "text/plain": [
       "                                    Organization Name  NY Reg #  \\\n",
       "0                                                None      None   \n",
       "1                                 04/11 10:17 PM test  47-13-95   \n",
       "2                1 CLUB COLOMBIA CARIBE INTERNATIONAL  15-79-51   \n",
       "3   1 in 9 The Long Island Breast Cancer Action Co...  05-26-54   \n",
       "4             Academy of General Dentistry Foundation  43-07-85   \n",
       "5            ALS ASSOCIATION UPSTATE NEW YORK CHAPTER  21-23-76   \n",
       "6                     American Agora Foundation, Inc.  40-62-78   \n",
       "7                    AMERICAN CLASSICAL ORCHESTRA INC  15-89-17   \n",
       "8                               AOPA Foundation, Inc.  40-51-26   \n",
       "9                              ARNOLD GOLD FOUNDATION  21-38-43   \n",
       "10                Balanda Community Association, Inc.  42-90-86   \n",
       "11                            BLESSING WAY FOUNDATION  20-76-19   \n",
       "12  BOYS & GIRLS CLUB OF THE NORTHTOWNS FOUNDATION...  01-23-16   \n",
       "13                   BRAND FOUNDATION OF NEW YORK INC  00-12-93   \n",
       "14                                   Briar Foundation  42-66-39   \n",
       "15                 BROOKLYN GYNECOLOGICAL SOCIETY INC  05-02-76   \n",
       "\n",
       "                  EIN Registrant Type              City State  \n",
       "0                None            None              None  None  \n",
       "1           206256427             NFP            ALBANY    NY  \n",
       "2   NO DATA AVAILABLE             NFP            QUEENS    NY  \n",
       "3           113195645             NFP           BALDWIN    NY  \n",
       "4           237310583             NFP            ALBANY    NY  \n",
       "5           412129176             NFP          ELBRIDGE    NY  \n",
       "6           204000236             NFP          NEW YORK    NY  \n",
       "7           061072470             NFP          NEW YORK    NY  \n",
       "8           208817225             NFP         FREDERICK    MD  \n",
       "9           223052098             NFP  ENGLEWOOD CLIFFS    NJ  \n",
       "10          264154665             NFP            DENVER    CO  \n",
       "11          043138834             NFP          NEW YORK    NY  \n",
       "12          160844107             NFP           BUFFALO    NY  \n",
       "13          136159106             NFP          NEW YORK    NY  \n",
       "14          356829452             NFP         LARCHMONT    NY  \n",
       "15          011202369             NFP          BROOKLYN    NY  "
      ]
     },
     "metadata": {},
     "output_type": "display_data"
    }
   ],
   "source": [
    "#####CREATE DATE FRAME#####\n",
    "#create empty dataframe\n",
    "df =[]\n",
    "\n",
    "#loop through dataframe to export table\n",
    "for row in table.find_elements_by_css_selector('tr'):\n",
    "      cols = df.append([cell.text for cell in row.find_elements_by_css_selector('td')])\n",
    "\n",
    "\n",
    "#update dataframe with header \n",
    "df = pd.DataFrame(df, columns = [\"Organization Name\", \"NY Reg #\", \"EIN\" ,\"Registrant Type\",\"City\",\"State\"])\n",
    "display(df) #let's have a look at the data before creating the CSV file and loading it into s3 "
   ]
  },
  {
   "cell_type": "code",
   "execution_count": 4,
   "metadata": {},
   "outputs": [
    {
     "data": {
      "text/html": [
       "<div>\n",
       "<style scoped>\n",
       "    .dataframe tbody tr th:only-of-type {\n",
       "        vertical-align: middle;\n",
       "    }\n",
       "\n",
       "    .dataframe tbody tr th {\n",
       "        vertical-align: top;\n",
       "    }\n",
       "\n",
       "    .dataframe thead th {\n",
       "        text-align: right;\n",
       "    }\n",
       "</style>\n",
       "<table border=\"1\" class=\"dataframe\">\n",
       "  <thead>\n",
       "    <tr style=\"text-align: right;\">\n",
       "      <th></th>\n",
       "      <th>Organization Name</th>\n",
       "      <th>NY Reg #</th>\n",
       "      <th>EIN</th>\n",
       "      <th>Registrant Type</th>\n",
       "      <th>City</th>\n",
       "      <th>State</th>\n",
       "    </tr>\n",
       "  </thead>\n",
       "  <tbody>\n",
       "    <tr>\n",
       "      <th>1</th>\n",
       "      <td>04/11 10:17 PM test</td>\n",
       "      <td>47-13-95</td>\n",
       "      <td>206256427</td>\n",
       "      <td>NFP</td>\n",
       "      <td>ALBANY</td>\n",
       "      <td>NY</td>\n",
       "    </tr>\n",
       "    <tr>\n",
       "      <th>2</th>\n",
       "      <td>1 CLUB COLOMBIA CARIBE INTERNATIONAL</td>\n",
       "      <td>15-79-51</td>\n",
       "      <td>NO DATA AVAILABLE</td>\n",
       "      <td>NFP</td>\n",
       "      <td>QUEENS</td>\n",
       "      <td>NY</td>\n",
       "    </tr>\n",
       "    <tr>\n",
       "      <th>3</th>\n",
       "      <td>1 in 9 The Long Island Breast Cancer Action Co...</td>\n",
       "      <td>05-26-54</td>\n",
       "      <td>113195645</td>\n",
       "      <td>NFP</td>\n",
       "      <td>BALDWIN</td>\n",
       "      <td>NY</td>\n",
       "    </tr>\n",
       "    <tr>\n",
       "      <th>4</th>\n",
       "      <td>Academy of General Dentistry Foundation</td>\n",
       "      <td>43-07-85</td>\n",
       "      <td>237310583</td>\n",
       "      <td>NFP</td>\n",
       "      <td>ALBANY</td>\n",
       "      <td>NY</td>\n",
       "    </tr>\n",
       "    <tr>\n",
       "      <th>5</th>\n",
       "      <td>ALS ASSOCIATION UPSTATE NEW YORK CHAPTER</td>\n",
       "      <td>21-23-76</td>\n",
       "      <td>412129176</td>\n",
       "      <td>NFP</td>\n",
       "      <td>ELBRIDGE</td>\n",
       "      <td>NY</td>\n",
       "    </tr>\n",
       "  </tbody>\n",
       "</table>\n",
       "</div>"
      ],
      "text/plain": [
       "                                   Organization Name  NY Reg #  \\\n",
       "1                                04/11 10:17 PM test  47-13-95   \n",
       "2               1 CLUB COLOMBIA CARIBE INTERNATIONAL  15-79-51   \n",
       "3  1 in 9 The Long Island Breast Cancer Action Co...  05-26-54   \n",
       "4            Academy of General Dentistry Foundation  43-07-85   \n",
       "5           ALS ASSOCIATION UPSTATE NEW YORK CHAPTER  21-23-76   \n",
       "\n",
       "                 EIN Registrant Type      City State  \n",
       "1          206256427             NFP    ALBANY    NY  \n",
       "2  NO DATA AVAILABLE             NFP    QUEENS    NY  \n",
       "3          113195645             NFP   BALDWIN    NY  \n",
       "4          237310583             NFP    ALBANY    NY  \n",
       "5          412129176             NFP  ELBRIDGE    NY  "
      ]
     },
     "execution_count": 4,
     "metadata": {},
     "output_type": "execute_result"
    }
   ],
   "source": [
    "# Data frame contains blank row at index 0 \n",
    "\n",
    "df_c = df[1:]\n",
    "df_c.head(5)"
   ]
  },
  {
   "cell_type": "markdown",
   "metadata": {},
   "source": [
    "#### * Creating bucket on s3"
   ]
  },
  {
   "cell_type": "code",
   "execution_count": 5,
   "metadata": {},
   "outputs": [
    {
     "data": {
      "text/plain": [
       "{'ResponseMetadata': {'RequestId': 'TXSPH63H7KN0WHK8',\n",
       "  'HostId': '8Ud9egKWa/kKEjMwWPvFHREnj2o7gdjCkOE1+200GdBXFVoQjQUeklx9Z+J8izxNBaolA5J7ai8=',\n",
       "  'HTTPStatusCode': 200,\n",
       "  'HTTPHeaders': {'x-amz-id-2': '8Ud9egKWa/kKEjMwWPvFHREnj2o7gdjCkOE1+200GdBXFVoQjQUeklx9Z+J8izxNBaolA5J7ai8=',\n",
       "   'x-amz-request-id': 'TXSPH63H7KN0WHK8',\n",
       "   'date': 'Fri, 18 Mar 2022 02:32:29 GMT',\n",
       "   'location': '/database-bucket-web',\n",
       "   'server': 'AmazonS3',\n",
       "   'content-length': '0'},\n",
       "  'RetryAttempts': 0},\n",
       " 'Location': '/database-bucket-web'}"
      ]
     },
     "execution_count": 5,
     "metadata": {},
     "output_type": "execute_result"
    }
   ],
   "source": [
    "# creating bucket in s3\n",
    "s3_client = boto3.client('s3')\n",
    "bucket = 'database-bucket-web' # already created on S3\n",
    "s3_client.create_bucket(Bucket=bucket)"
   ]
  },
  {
   "cell_type": "markdown",
   "metadata": {},
   "source": [
    "#### * Loading data into s3 bucket as CSV file"
   ]
  },
  {
   "cell_type": "code",
   "execution_count": 6,
   "metadata": {},
   "outputs": [
    {
     "data": {
      "text/plain": [
       "{'ResponseMetadata': {'RequestId': 'TXSHRPP1WA14344P',\n",
       "  'HostId': 'odkdh/BWCX175norkiVbuO0qSETM9MRBp+A+/PI1rkv4vU2m95HcuMUvxcosJJ48u3PUEKMNgCc=',\n",
       "  'HTTPStatusCode': 200,\n",
       "  'HTTPHeaders': {'x-amz-id-2': 'odkdh/BWCX175norkiVbuO0qSETM9MRBp+A+/PI1rkv4vU2m95HcuMUvxcosJJ48u3PUEKMNgCc=',\n",
       "   'x-amz-request-id': 'TXSHRPP1WA14344P',\n",
       "   'date': 'Fri, 18 Mar 2022 02:32:29 GMT',\n",
       "   'etag': '\"5d97ae5ab6bd6d57f9f82c4282f29d3f\"',\n",
       "   'server': 'AmazonS3',\n",
       "   'content-length': '0'},\n",
       "  'RetryAttempts': 0},\n",
       " 'ETag': '\"5d97ae5ab6bd6d57f9f82c4282f29d3f\"'}"
      ]
     },
     "execution_count": 6,
     "metadata": {},
     "output_type": "execute_result"
    }
   ],
   "source": [
    "###LOAD THE FILE INTO S3####\n",
    "# prepare csv file name   \n",
    "#load file into s3. Pandas actually leverages boto to connect to s3 and can push the file directly into an s3 bucket\n",
    "csv_buffer = StringIO()\n",
    "df_c.to_csv(csv_buffer)\n",
    "s3_resource = boto3.resource('s3')\n",
    "s3_resource.Object(bucket, 'charities_bureau_scrape.csv').put(Body=csv_buffer.getvalue()) "
   ]
  },
  {
   "cell_type": "markdown",
   "metadata": {},
   "source": [
    "#### * Validating file upload and reading uploaded CSV file"
   ]
  },
  {
   "cell_type": "code",
   "execution_count": 7,
   "metadata": {},
   "outputs": [
    {
     "name": "stdout",
     "output_type": "stream",
     "text": [
      "charities_bureau_scrape.csv file uploaded successfully\n",
      "---------------------------csv data as dataframe---------------------------\n",
      "    Unnamed: 0                                  Organization Name  NY Reg #  \\\n",
      "0            1                                04/11 10:17 PM test  47-13-95   \n",
      "1            2               1 CLUB COLOMBIA CARIBE INTERNATIONAL  15-79-51   \n",
      "2            3  1 in 9 The Long Island Breast Cancer Action Co...  05-26-54   \n",
      "3            4            Academy of General Dentistry Foundation  43-07-85   \n",
      "4            5           ALS ASSOCIATION UPSTATE NEW YORK CHAPTER  21-23-76   \n",
      "5            6                    American Agora Foundation, Inc.  40-62-78   \n",
      "6            7                   AMERICAN CLASSICAL ORCHESTRA INC  15-89-17   \n",
      "7            8                              AOPA Foundation, Inc.  40-51-26   \n",
      "8            9                             ARNOLD GOLD FOUNDATION  21-38-43   \n",
      "9           10                Balanda Community Association, Inc.  42-90-86   \n",
      "10          11                            BLESSING WAY FOUNDATION  20-76-19   \n",
      "11          12  BOYS & GIRLS CLUB OF THE NORTHTOWNS FOUNDATION...  01-23-16   \n",
      "12          13                   BRAND FOUNDATION OF NEW YORK INC  00-12-93   \n",
      "13          14                                   Briar Foundation  42-66-39   \n",
      "14          15                 BROOKLYN GYNECOLOGICAL SOCIETY INC  05-02-76   \n",
      "\n",
      "                  EIN Registrant Type              City State  \n",
      "0           206256427             NFP            ALBANY    NY  \n",
      "1   NO DATA AVAILABLE             NFP            QUEENS    NY  \n",
      "2           113195645             NFP           BALDWIN    NY  \n",
      "3           237310583             NFP            ALBANY    NY  \n",
      "4           412129176             NFP          ELBRIDGE    NY  \n",
      "5           204000236             NFP          NEW YORK    NY  \n",
      "6           061072470             NFP          NEW YORK    NY  \n",
      "7           208817225             NFP         FREDERICK    MD  \n",
      "8           223052098             NFP  ENGLEWOOD CLIFFS    NJ  \n",
      "9           264154665             NFP            DENVER    CO  \n",
      "10          043138834             NFP          NEW YORK    NY  \n",
      "11          160844107             NFP           BUFFALO    NY  \n",
      "12          136159106             NFP          NEW YORK    NY  \n",
      "13          356829452             NFP         LARCHMONT    NY  \n",
      "14          011202369             NFP          BROOKLYN    NY  \n"
     ]
    }
   ],
   "source": [
    "s3 = boto3.resource('s3')\n",
    "buckets3 = s3.Bucket(bucket)\n",
    "\n",
    "for obj in buckets3.objects.all():\n",
    "    key = obj.key\n",
    "    body = obj.get()['Body'].read()\n",
    "\n",
    "    if key == 'charities_bureau_scrape.csv':\n",
    "        print('charities_bureau_scrape.csv file uploaded successfully')\n",
    "        print('---------------------------csv data as dataframe---------------------------')\n",
    "        df_s3 = pd.read_csv(io.StringIO(body.decode('utf-8')))\n",
    "        print(df_s3)\n",
    "\n",
    "    else:\n",
    "        print('File not uploaded')\n"
   ]
  },
  {
   "cell_type": "markdown",
   "metadata": {},
   "source": [
    "### References: \n",
    "\n",
    "1. https://www.programiz.com/python-programming/working-csv-files\n",
    "2. https://boto3.amazonaws.com/v1/documentation/api/latest/reference/services/s3.html#S3.Client.create_bucket\n",
    "3. https://realpython.com/python-boto3-aws-s3/ \n",
    "4. https://robertorocha.info/setting-up-a-selenium-web-scraper-on-aws-lambda-with-python/ "
   ]
  }
 ],
 "metadata": {
  "kernelspec": {
   "display_name": "Python 3",
   "language": "python",
   "name": "python3"
  },
  "language_info": {
   "codemirror_mode": {
    "name": "ipython",
    "version": 3
   },
   "file_extension": ".py",
   "mimetype": "text/x-python",
   "name": "python",
   "nbconvert_exporter": "python",
   "pygments_lexer": "ipython3",
   "version": "3.8.5"
  }
 },
 "nbformat": 4,
 "nbformat_minor": 4
}
